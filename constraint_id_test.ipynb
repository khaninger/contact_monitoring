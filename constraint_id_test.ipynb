{
 "cells": [
  {
   "cell_type": "code",
   "execution_count": 1,
   "metadata": {},
   "outputs": [],
   "source": [
    "%load_ext autoreload\n",
    "%autoreload 2\n",
    "import numpy as np\n",
    "import casadi as ca"
   ]
  },
  {
   "cell_type": "code",
   "execution_count": 53,
   "metadata": {},
   "outputs": [],
   "source": [
    "def h1(x):\n",
    "    return ca.vertcat(*[ca.norm_2(x[1]**2+x[2]**2-1),\n",
    "                        ca.norm_2(x[0]-0)])\n",
    "    \n",
    "\n",
    "#def h2(x):\n",
    "#    return ca.norm_2(x-np.array([0,1,0]))\n",
    "\n"
   ]
  },
  {
   "cell_type": "code",
   "execution_count": 67,
   "metadata": {},
   "outputs": [
    {
     "name": "stdout",
     "output_type": "stream",
     "text": [
      "[fabs(((sq(x_sym_1)+sq(x_sym_2))-1)), fabs(x_sym_0)]\n",
      "sqrt(((sq(x_sym_0)+sq((x_sym_1-1)))+sq(x_sym_2)))\n",
      "\n",
      "[[00, 2, 0.06], \n",
      " [1, 00, 00]]\n"
     ]
    }
   ],
   "source": [
    "#h1(np.array([1.1, 3.1, 1.1]))\n",
    "x_sym = ca.SX.sym('x_sym',3)\n",
    "h1_sym = h1(x_sym)\n",
    "h2_sym = h2(x_sym)\n",
    "h1_jac = ca.jacobian(h1_sym, x_sym)\n",
    "h2_jac = ca.jacobian(h2_sym, x_sym)\n",
    "h1_jac_fn = ca.Function('h1_jac', [x_sym],[h1_jac])\n",
    "h2_jac_fn = ca.Function('h2_jac', [x_sym],[h2_jac])\n",
    "print(h1_sym)\n",
    "print(h2_sym)\n",
    "print(h1_jac_fn(np.array([1, 1, 0.03])))\n",
    "\n",
    "h1_jac_pinv = ca.pinv(h1_jac)\n",
    "h1_jac_pinv_fn = ca.Function('h1_jac_pinv_fn', [x_sym], [h1_jac_pinv])\n",
    "\n",
    "h2_jac_pinv = ca.pinv(h2_jac)\n",
    "h2_jac_pinv_fn = ca.Function('h2_jac_pinv_fn', [x_sym], [h2_jac_pinv])\n"
   ]
  },
  {
   "cell_type": "code",
   "execution_count": 85,
   "metadata": {},
   "outputs": [
    {
     "name": "stdout",
     "output_type": "stream",
     "text": [
      "[[1.]]\n"
     ]
    }
   ],
   "source": [
    "#A*x=b\n",
    "#J*lam=F\n",
    "\n",
    "F = np.array([2, 1, 1])\n",
    "x = np.array([2,0,1.3])\n",
    "pi1_val = h1_jac_pinv_fn(x).full()\n",
    "pi2_val = h2_jac_pinv_fn(x).full()\n",
    "\n",
    "#print(h1_jac_fn(x))\n",
    "#print(pi_val.size)\n",
    "#print(F.size)\n",
    "#print(h1_jac_fn(x).full().shape)\n",
    "\n",
    "print(ca.norm_2(F-h1_jac_fn(x).T@(F@pi1_val)).full())\n",
    "#print(ca.norm_2(F-h2_jac_fn(x)@(F@pi2_val)).full())\n"
   ]
  },
  {
   "cell_type": "code",
   "execution_count": 18,
   "metadata": {},
   "outputs": [
    {
     "name": "stdout",
     "output_type": "stream",
     "text": [
      "@1=sqrt(((sq(r_0)+sq(r_1))+sq(r_2))), @2=1e-09, @3=(@1<@2), @4=((@3?@2:0)+((!@3)?@1:0)), @5=(r_0/@4), @6=cos(@4), @7=(1-@6), @8=(r_1/@4), @9=(r_2/@4), @10=sin(@4), \n",
      "[[((sq(@5)*@7)+@6), (((@5*@8)*@7)-(@9*@10)), (((@5*@9)*@7)+(@8*@10))], \n",
      " [(((@5*@8)*@7)+(@9*@10)), ((sq(@8)*@7)+@6), (((@8*@9)*@7)-(@5*@10))], \n",
      " [(((@5*@9)*@7)-(@8*@10)), (((@8*@9)*@7)+(@5*@10)), ((sq(@9)*@7)+@6)]]\n",
      "@1=sqrt(((sq(r_0)+sq(r_1))+sq(r_2))), @2=1e-09, @3=(@1<@2), @4=((@3?@2:0)+((!@3)?@1:0)), @5=(r_0/@4), @6=1, @7=cos(@4), @8=(@6-@7), @9=((sq(@5)*@8)+@7), @10=(r_1/@4), @11=((sq(@10)*@8)+@7), @12=(r_2/@4), @13=((sq(@12)*@8)+@7), @14=((@9+@11)+@13), @15=(fabs((@14+@6))<@2), @16=0.5, @17=(!@15), @18=3, @19=(!(fabs((@14-@18))<@2)), @20=sin(@4), @21=sqrt(((@18-@14)*(@6+@14))), @22=acos((@16*(@14-@6))), [(((@15?sqrt((@16*(@6+@9))):0)+(@17?(@19?(((((@10*@12)*@8)+(@5*@20))-(((@10*@12)*@8)-(@5*@20)))/@21):0):0))*@22), (((@15?sqrt((@16*(@6+@11))):0)+(@17?(@19?(((((@5*@12)*@8)+(@10*@20))-(((@5*@12)*@8)-(@10*@20)))/@21):0):0))*@22), (((@15?sqrt((@16*(@6+@13))):0)+(@17?(@19?(((((@5*@10)*@8)+(@12*@20))-(((@5*@10)*@8)-(@12*@20)))/@21):0):0))*@22)]\n",
      "@1=sqrt(((sq(r_0)+sq(r_1))+sq(r_2))), @2=1e-09, @3=(@1<@2), @4=((@3?@2:0)+((!@3)?@1:0)), @5=(r_0/@4), @6=1, @7=cos(@4), @8=(@6-@7), @9=((sq(@5)*@8)+@7), @10=(r_1/@4), @11=((sq(@10)*@8)+@7), @12=(r_2/@4), @13=((sq(@12)*@8)+@7), @14=((@9+@11)+@13), @15=(fabs((@14+@6))<@2), @16=0.5, @17=(!@15), @18=3, @19=(!(fabs((@14-@18))<@2)), @20=sin(@4), @21=(((@10*@12)*@8)+(@5*@20)), @22=(((@10*@12)*@8)-(@5*@20)), @23=sqrt(((@18-@14)*(@6+@14))), @24=acos((@16*(@14-@6))), @25=(((@15?sqrt((@16*(@6+@9))):0)+(@17?(@19?((@21-@22)/@23):0):0))*@24), @26=(((@5*@12)*@8)+(@10*@20)), @27=(((@5*@12)*@8)-(@10*@20)), @28=(((@15?sqrt((@16*(@6+@11))):0)+(@17?(@19?((@26-@27)/@23):0):0))*@24), @29=(((@5*@10)*@8)+(@12*@20)), @30=(((@5*@10)*@8)-(@12*@20)), @31=(((@15?sqrt((@16*(@6+@13))):0)+(@17?(@19?((@29-@30)/@23):0):0))*@24), @32=sqrt(((sq(@25)+sq(@28))+sq(@31))), @33=(@32<@2), @34=((@33?@2:0)+((!@33)?@32:0)), @35=(@25/@34), @36=cos(@34), @37=(@6-@36), @38=(@28/@34), @39=(@31/@34), @40=sin(@34), \n",
      "[[(@9-((sq(@35)*@37)+@36)), (@30-(((@35*@38)*@37)-(@39*@40))), (@26-(((@35*@39)*@37)+(@38*@40)))], \n",
      " [(@29-(((@35*@38)*@37)+(@39*@40))), (@11-((sq(@38)*@37)+@36)), (@22-(((@38*@39)*@37)-(@35*@40)))], \n",
      " [(@27-(((@35*@39)*@37)-(@38*@40))), (@21-(((@38*@39)*@37)+(@35*@40))), (@13-((sq(@39)*@37)+@36))]]\n"
     ]
    }
   ],
   "source": [
    "### Rotation test\n",
    "from rotation_helpers import *\n",
    "\n",
    "#r = np.array([0, np.pi, 0])\n",
    "r = np.array([-0.1, 0, 1.3])\n",
    "r = ca.SX.sym('r', 3)\n",
    "\n",
    "\n",
    "R = rotvec_to_rotation(r)\n",
    "print(R)\n",
    "r2 = rotation_to_rotvec(R)\n",
    "print(r2)\n",
    "R2 = rotvec_to_rotation(r2)\n",
    "print(R-R2)"
   ]
  }
 ],
 "metadata": {
  "kernelspec": {
   "display_name": "Python 3 (ipykernel)",
   "language": "python",
   "name": "python3"
  },
  "language_info": {
   "codemirror_mode": {
    "name": "ipython",
    "version": 3
   },
   "file_extension": ".py",
   "mimetype": "text/x-python",
   "name": "python",
   "nbconvert_exporter": "python",
   "pygments_lexer": "ipython3",
   "version": "3.8.10"
  }
 },
 "nbformat": 4,
 "nbformat_minor": 4
}
