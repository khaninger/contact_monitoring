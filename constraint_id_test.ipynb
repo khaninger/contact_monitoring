{
 "cells": [
  {
   "cell_type": "code",
   "execution_count": 2,
   "metadata": {},
   "outputs": [],
   "source": [
    "%load_ext autoreload\n",
    "%autoreload 2\n",
    "import numpy as np\n",
    "import casadi as ca"
   ]
  },
  {
   "cell_type": "code",
   "execution_count": 53,
   "metadata": {},
   "outputs": [],
   "source": [
    "def h1(x):\n",
    "    return ca.vertcat(*[ca.norm_2(x[1]**2+x[2]**2-1),\n",
    "                        ca.norm_2(x[0]-0)])\n",
    "    \n",
    "\n",
    "#def h2(x):\n",
    "#    return ca.norm_2(x-np.array([0,1,0]))\n",
    "\n"
   ]
  },
  {
   "cell_type": "code",
   "execution_count": 67,
   "metadata": {},
   "outputs": [
    {
     "name": "stdout",
     "output_type": "stream",
     "text": [
      "[fabs(((sq(x_sym_1)+sq(x_sym_2))-1)), fabs(x_sym_0)]\n",
      "sqrt(((sq(x_sym_0)+sq((x_sym_1-1)))+sq(x_sym_2)))\n",
      "\n",
      "[[00, 2, 0.06], \n",
      " [1, 00, 00]]\n"
     ]
    }
   ],
   "source": [
    "#h1(np.array([1.1, 3.1, 1.1]))\n",
    "x_sym = ca.SX.sym('x_sym',3)\n",
    "h1_sym = h1(x_sym)\n",
    "h2_sym = h2(x_sym)\n",
    "h1_jac = ca.jacobian(h1_sym, x_sym)\n",
    "h2_jac = ca.jacobian(h2_sym, x_sym)\n",
    "h1_jac_fn = ca.Function('h1_jac', [x_sym],[h1_jac])\n",
    "h2_jac_fn = ca.Function('h2_jac', [x_sym],[h2_jac])\n",
    "print(h1_sym)\n",
    "print(h2_sym)\n",
    "print(h1_jac_fn(np.array([1, 1, 0.03])))\n",
    "\n",
    "h1_jac_pinv = ca.pinv(h1_jac)\n",
    "h1_jac_pinv_fn = ca.Function('h1_jac_pinv_fn', [x_sym], [h1_jac_pinv])\n",
    "\n",
    "h2_jac_pinv = ca.pinv(h2_jac)\n",
    "h2_jac_pinv_fn = ca.Function('h2_jac_pinv_fn', [x_sym], [h2_jac_pinv])\n"
   ]
  },
  {
   "cell_type": "code",
   "execution_count": 85,
   "metadata": {},
   "outputs": [
    {
     "name": "stdout",
     "output_type": "stream",
     "text": [
      "[[1.]]\n"
     ]
    }
   ],
   "source": [
    "#A*x=b\n",
    "#J*lam=F\n",
    "\n",
    "F = np.array([2, 1, 1])\n",
    "x = np.array([2,0,1.3])\n",
    "pi1_val = h1_jac_pinv_fn(x).full()\n",
    "pi2_val = h2_jac_pinv_fn(x).full()\n",
    "\n",
    "#print(h1_jac_fn(x))\n",
    "#print(pi_val.size)\n",
    "#print(F.size)\n",
    "#print(h1_jac_fn(x).full().shape)\n",
    "\n",
    "print(ca.norm_2(F-h1_jac_fn(x).T@(F@pi1_val)).full())\n",
    "#print(ca.norm_2(F-h2_jac_fn(x)@(F@pi2_val)).full())\n"
   ]
  },
  {
   "cell_type": "code",
   "execution_count": 33,
   "metadata": {},
   "outputs": [
    {
     "name": "stdout",
     "output_type": "stream",
     "text": [
      "\n",
      "[[-0.215294, -0.221675, 0.951057], \n",
      " [-0.88113, 0.463972, -0.0913208], \n",
      " [-0.42102, -0.857666, -0.295215]]\n",
      "@1=1, @2=0, @3=1.07553e-16, \n",
      "[[@1, @2, @2], \n",
      " [@2, @1, @3], \n",
      " [@2, @3, 1]]\n",
      "@1=-3.14159, [@1, 0.628319, @1]\n",
      "@1=0, \n",
      "[[@1, -8.32667e-17, @1], \n",
      " [-1.11022e-16, -1.66533e-16, -2.77556e-17], \n",
      " [1.11022e-16, @1, -5.55112e-17]]\n",
      "@1=0, \n",
      "[[0.540302, @1, 0.841471, @1], \n",
      " [0.248672, 0.955336, -0.15967, 2], \n",
      " [-0.803888, 0.29552, 0.516171, 3], \n",
      " [00, 00, 00, 1]]\n",
      "@1=0, [@1, @1, @1, @1, @1, @1]\n"
     ]
    }
   ],
   "source": [
    "### Rotation test\n",
    "from rotation_helpers import *\n",
    "\n",
    "#r = np.array([0, np.pi, 0])\n",
    "r = np.array([-0.3, 3*np.pi/5, -.8])\n",
    "#r = ca.SX.sym('r', 3)\n",
    "\n",
    "rot = xyz_to_rotation(r)\n",
    "print(rot)\n",
    "print(rot@(rot.T))\n",
    "r2 = rotation_to_xyz(rot)\n",
    "#print(r)\n",
    "print(r-r2)\n",
    "rot2 = xyz_to_rotation(r2)\n",
    "print(rot-rot2)\n",
    "\n",
    "x = np.array([0, 2, 3, .3, 1, 0])\n",
    "T = xyz_pose_to_tmat(x)\n",
    "print(T)\n",
    "x2 = tmat_to_xyz_pose(T)\n",
    "print(x-x2)\n",
    "\n",
    "#R = rotvec_to_rotation(r)\n",
    "#print(R)\n",
    "#r2 = rotation_to_rotvec(R)\n",
    "#print(r2)\n",
    "#R2 = rotvec_to_rotation(r2)\n",
    "#print(R-R2)"
   ]
  }
 ],
 "metadata": {
  "kernelspec": {
   "display_name": "Python 3 (ipykernel)",
   "language": "python",
   "name": "python3"
  },
  "language_info": {
   "codemirror_mode": {
    "name": "ipython",
    "version": 3
   },
   "file_extension": ".py",
   "mimetype": "text/x-python",
   "name": "python",
   "nbconvert_exporter": "python",
   "pygments_lexer": "ipython3",
   "version": "3.8.10"
  }
 },
 "nbformat": 4,
 "nbformat_minor": 4
}
