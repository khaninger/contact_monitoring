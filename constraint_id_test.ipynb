{
 "cells": [
  {
   "cell_type": "code",
   "execution_count": 1,
   "metadata": {},
   "outputs": [],
   "source": [
    "%load_ext autoreload\n",
    "%autoreload 2\n",
    "import numpy as np\n",
    "import casadi as ca"
   ]
  },
  {
   "cell_type": "code",
   "execution_count": 53,
   "metadata": {},
   "outputs": [],
   "source": [
    "def h1(x):\n",
    "    return ca.vertcat(*[ca.norm_2(x[1]**2+x[2]**2-1),\n",
    "                        ca.norm_2(x[0]-0)])\n",
    "    \n",
    "\n",
    "#def h2(x):\n",
    "#    return ca.norm_2(x-np.array([0,1,0]))\n",
    "\n"
   ]
  },
  {
   "cell_type": "code",
   "execution_count": 67,
   "metadata": {},
   "outputs": [
    {
     "name": "stdout",
     "output_type": "stream",
     "text": [
      "[fabs(((sq(x_sym_1)+sq(x_sym_2))-1)), fabs(x_sym_0)]\n",
      "sqrt(((sq(x_sym_0)+sq((x_sym_1-1)))+sq(x_sym_2)))\n",
      "\n",
      "[[00, 2, 0.06], \n",
      " [1, 00, 00]]\n"
     ]
    }
   ],
   "source": [
    "#h1(np.array([1.1, 3.1, 1.1]))\n",
    "x_sym = ca.SX.sym('x_sym',3)\n",
    "h1_sym = h1(x_sym)\n",
    "h2_sym = h2(x_sym)\n",
    "h1_jac = ca.jacobian(h1_sym, x_sym)\n",
    "h2_jac = ca.jacobian(h2_sym, x_sym)\n",
    "h1_jac_fn = ca.Function('h1_jac', [x_sym],[h1_jac])\n",
    "h2_jac_fn = ca.Function('h2_jac', [x_sym],[h2_jac])\n",
    "print(h1_sym)\n",
    "print(h2_sym)\n",
    "print(h1_jac_fn(np.array([1, 1, 0.03])))\n",
    "\n",
    "h1_jac_pinv = ca.pinv(h1_jac)\n",
    "h1_jac_pinv_fn = ca.Function('h1_jac_pinv_fn', [x_sym], [h1_jac_pinv])\n",
    "\n",
    "h2_jac_pinv = ca.pinv(h2_jac)\n",
    "h2_jac_pinv_fn = ca.Function('h2_jac_pinv_fn', [x_sym], [h2_jac_pinv])\n"
   ]
  },
  {
   "cell_type": "code",
   "execution_count": 85,
   "metadata": {},
   "outputs": [
    {
     "name": "stdout",
     "output_type": "stream",
     "text": [
      "[[1.]]\n"
     ]
    }
   ],
   "source": [
    "#A*x=b\n",
    "#J*lam=F\n",
    "\n",
    "F = np.array([2, 1, 1])\n",
    "x = np.array([2,0,1.3])\n",
    "pi1_val = h1_jac_pinv_fn(x).full()\n",
    "pi2_val = h2_jac_pinv_fn(x).full()\n",
    "\n",
    "#print(h1_jac_fn(x))\n",
    "#print(pi_val.size)\n",
    "#print(F.size)\n",
    "#print(h1_jac_fn(x).full().shape)\n",
    "\n",
    "print(ca.norm_2(F-h1_jac_fn(x).T@(F@pi1_val)).full())\n",
    "#print(ca.norm_2(F-h2_jac_fn(x)@(F@pi2_val)).full())\n"
   ]
  }
 ],
 "metadata": {
  "kernelspec": {
   "display_name": "Python 3",
   "language": "python",
   "name": "python3"
  },
  "language_info": {
   "codemirror_mode": {
    "name": "ipython",
    "version": 3
   },
   "file_extension": ".py",
   "mimetype": "text/x-python",
   "name": "python",
   "nbconvert_exporter": "python",
   "pygments_lexer": "ipython3",
   "version": "3.8.10"
  }
 },
 "nbformat": 4,
 "nbformat_minor": 4
}
