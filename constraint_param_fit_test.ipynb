{
 "cells": [
  {
   "cell_type": "code",
   "execution_count": 1,
   "id": "19bf1c8a",
   "metadata": {},
   "outputs": [],
   "source": [
    "%load_ext autoreload\n",
    "%autoreload 2"
   ]
  },
  {
   "cell_type": "code",
   "execution_count": 2,
   "id": "67cf9f68",
   "metadata": {},
   "outputs": [
    {
     "name": "stdout",
     "output_type": "stream",
     "text": [
      "[[ 9.88771078e-01 -4.41619878e-02  1.42763701e-01  1.71381850e-01]\n",
      " [-3.46944695e-18  9.55336489e-01  2.95520207e-01  3.47760103e-01]\n",
      " [-1.49438132e-01 -2.92201833e-01  9.44609090e-01  7.72304545e-01]\n",
      " [ 0.00000000e+00  0.00000000e+00  0.00000000e+00  1.00000000e+00]]\n"
     ]
    }
   ],
   "source": [
    "### Generate some nice data\n",
    "### rotating about x and y axis\n",
    "\n",
    "import numpy as np\n",
    "from rotation_helpers import xyz_to_rotation\n",
    "\n",
    "rest_pt = np.array([0.1, 0.2, 0.3])\n",
    "pt = np.array([0., 0., 0.5])\n",
    "\n",
    "Tmats = []\n",
    "\n",
    "for x_rot in np.linspace(-0.3,0.3,5):\n",
    "    for y_rot in np.linspace(-0.3,0.3,5):\n",
    "        rotation = np.array([x_rot, y_rot, 0])\n",
    "        new_rotmat = xyz_to_rotation(rotation)\n",
    "        new_pt = new_rotmat@pt+rest_pt\n",
    "        Tmat = np.eye(4)\n",
    "        Tmat[:3,3] = np.squeeze(new_pt)\n",
    "        Tmat[:3,:3] = new_rotmat\n",
    "        Tmats.append(Tmat)\n",
    "        \n",
    "print(Tmats[3])\n",
    "#print(Tmats[15])"
   ]
  },
  {
   "cell_type": "code",
   "execution_count": 3,
   "id": "77a7f42e",
   "metadata": {
    "scrolled": false
   },
   "outputs": [
    {
     "name": "stdout",
     "output_type": "stream",
     "text": [
      "Initializing a PointConstraint with following params:\n",
      "** Decision variables **\n",
      "pt:\n",
      ": [pt_0, pt_1, pt_2]\n",
      "rest_pt:\n",
      ": [rest_pt_0, rest_pt_1, rest_pt_2]\n",
      "\n",
      "\n",
      "******************************************************************************\n",
      "This program contains Ipopt, a library for large-scale nonlinear optimization.\n",
      " Ipopt is released as open source code under the Eclipse Public License (EPL).\n",
      "         For more information visit https://github.com/coin-or/Ipopt\n",
      "******************************************************************************\n",
      "\n",
      "This is Ipopt version 3.13.3, running with linear solver mumps.\n",
      "NOTE: Other linear solvers might be more efficient (see Ipopt documentation).\n",
      "\n",
      "Number of nonzeros in equality constraint Jacobian...:        0\n",
      "Number of nonzeros in inequality constraint Jacobian.:        0\n",
      "Number of nonzeros in Lagrangian Hessian.............:       21\n",
      "\n",
      "Total number of variables............................:        6\n",
      "                     variables with only lower bounds:        0\n",
      "                variables with lower and upper bounds:        0\n",
      "                     variables with only upper bounds:        0\n",
      "Total number of equality constraints.................:        0\n",
      "Total number of inequality constraints...............:        0\n",
      "        inequality constraints with only lower bounds:        0\n",
      "   inequality constraints with lower and upper bounds:        0\n",
      "        inequality constraints with only upper bounds:        0\n",
      "\n",
      "iter    objective    inf_pr   inf_du lg(mu)  ||d||  lg(rg) alpha_du alpha_pr  ls\n",
      "   0  2.0553283e+01 0.00e+00 2.39e+01  -1.0 0.00e+00    -  0.00e+00 0.00e+00   0\n",
      "   1  7.6056966e-01 0.00e+00 2.39e+01  -1.0 3.74e+16    -  1.00e+00 1.39e-17f 57\n",
      "   2  5.3068575e-01 0.00e+00 2.39e+01  -1.0 2.64e+05  -4.0 1.00e+00 1.19e-07f 24\n",
      "   3  4.3779476e-01 0.00e+00 2.39e+01  -1.0 7.91e+05  -4.5 1.00e+00 2.98e-08f 26\n",
      "   4  2.8857176e-01 0.00e+00 2.39e+01  -1.0 2.37e+06  -5.0 1.00e+00 7.45e-09f 28\n",
      "   5  2.5620462e-01 0.00e+00 2.39e+01  -1.0 7.11e+06  -5.4 1.00e+00 1.86e-09f 30\n",
      "   6  1.1146479e-01 0.00e+00 2.39e+01  -1.0 6.44e+14    -  1.00e+00 1.39e-17f 57\n",
      "   7  9.2826459e-02 0.00e+00 2.39e+01  -1.0 2.13e+07  -5.9 1.00e+00 2.33e-10f 33\n",
      "   8  6.0392206e-02 0.00e+00 2.39e+01  -1.0 6.40e+07  -6.4 1.00e+00 5.82e-11f 35\n",
      "   9  5.4522052e-02 0.00e+00 2.39e+01  -1.0 1.92e+08  -6.9 1.00e+00 1.46e-11f 37\n",
      "iter    objective    inf_pr   inf_du lg(mu)  ||d||  lg(rg) alpha_du alpha_pr  ls\n",
      "  10  3.1665328e-02 0.00e+00 2.39e+01  -1.0 5.76e+08  -7.3 1.00e+00 3.64e-12f 39\n",
      "  11  7.1075415e+10 0.00e+00 2.39e+01  -1.0 1.73e+09  -7.8 1.00e+00 1.00e+00w  1\n",
      "  12  1.7842662e+27 0.00e+00 2.39e+01  -1.0 4.34e+25    -  1.00e+00 1.00e+00w  1\n",
      "\n",
      "Number of Iterations....: 12\n",
      "\n",
      "                                   (scaled)                 (unscaled)\n",
      "Objective...............:   1.7842662207663451e+27    1.7842662207663451e+27\n",
      "Dual infeasibility......:   2.3902443765690727e+01    2.3902443765690727e+01\n",
      "Constraint violation....:   0.0000000000000000e+00    0.0000000000000000e+00\n",
      "Complementarity.........:   0.0000000000000000e+00    0.0000000000000000e+00\n",
      "Overall NLP error.......:   2.3902443765690727e+01    2.3902443765690727e+01\n",
      "\n",
      "\n",
      "Number of objective function evaluations             = 409\n",
      "Number of objective gradient evaluations             = 13\n",
      "Number of equality constraint evaluations            = 0\n",
      "Number of inequality constraint evaluations          = 0\n",
      "Number of equality constraint Jacobian evaluations   = 0\n",
      "Number of inequality constraint Jacobian evaluations = 0\n",
      "Number of Lagrangian Hessian evaluations             = 12\n",
      "Total CPU secs in IPOPT (w/o function evaluations)   =      0.026\n",
      "Total CPU secs in NLP function evaluations           =      0.003\n",
      "\n",
      "EXIT: Iterates diverging; problem might be unbounded.\n",
      "      solver  :   t_proc      (avg)   t_wall      (avg)    n_eval\n",
      "       nlp_f  |   1.84ms (  4.49us)   1.83ms (  4.48us)       409\n",
      "  nlp_grad_f  | 139.00us (  9.93us) 140.36us ( 10.03us)        14\n",
      "  nlp_hess_l  | 401.00us ( 33.42us) 403.59us ( 33.63us)        12\n",
      "       total  |  36.14ms ( 36.14ms)  36.15ms ( 36.15ms)         1\n",
      "** Decision variables **\n",
      "pt:\n",
      ": [1.71371494e+21 3.73125674e+21 4.34052391e+25]\n",
      "rest_pt:\n",
      ": [-8.67945692e+24 -1.73586060e+25 -2.60441565e+25]\n",
      "\n"
     ]
    }
   ],
   "source": [
    "from constraint import PointConstraint\n",
    "constraint = PointConstraint()\n",
    "constraint.fit(Tmats)"
   ]
  },
  {
   "cell_type": "code",
   "execution_count": null,
   "id": "cc36654c",
   "metadata": {},
   "outputs": [],
   "source": []
  }
 ],
 "metadata": {
  "kernelspec": {
   "display_name": "Python 3 (ipykernel)",
   "language": "python",
   "name": "python3"
  },
  "language_info": {
   "codemirror_mode": {
    "name": "ipython",
    "version": 3
   },
   "file_extension": ".py",
   "mimetype": "text/x-python",
   "name": "python",
   "nbconvert_exporter": "python",
   "pygments_lexer": "ipython3",
   "version": "3.8.16"
  }
 },
 "nbformat": 4,
 "nbformat_minor": 5
}
