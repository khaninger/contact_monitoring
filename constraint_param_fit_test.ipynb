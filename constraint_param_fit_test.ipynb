{
 "cells": [
  {
   "cell_type": "code",
   "execution_count": 1,
   "id": "19bf1c8a",
   "metadata": {},
   "outputs": [],
   "source": [
    "%load_ext autoreload\n",
    "%autoreload 2"
   ]
  },
  {
   "cell_type": "code",
   "execution_count": 2,
   "id": "67cf9f68",
   "metadata": {},
   "outputs": [
    {
     "name": "stdout",
     "output_type": "stream",
     "text": [
      "[[ 9.88771078e-01 -4.41619878e-02  1.42763701e-01  1.71381850e-01]\n",
      " [-3.46944695e-18  9.55336489e-01  2.95520207e-01  3.47760103e-01]\n",
      " [-1.49438132e-01 -2.92201833e-01  9.44609090e-01  7.72304545e-01]\n",
      " [ 0.00000000e+00  0.00000000e+00  0.00000000e+00  1.00000000e+00]]\n"
     ]
    }
   ],
   "source": [
    "### Generate some nice data\n",
    "### rotating about x and y axis\n",
    "\n",
    "import numpy as np\n",
    "from rotation_helpers import xyz_to_rotation\n",
    "\n",
    "rest_pt = np.array([0.1, 0.2, 0.3])\n",
    "pt = np.array([0., 0., 0.5])\n",
    "\n",
    "Tmats = []\n",
    "\n",
    "for x_rot in np.linspace(-0.3,0.3,5):\n",
    "    for y_rot in np.linspace(-0.3,0.3,5):\n",
    "        rotation = np.array([x_rot, y_rot, 0])\n",
    "        new_rotmat = xyz_to_rotation(rotation)\n",
    "        new_pt = new_rotmat@pt+rest_pt\n",
    "        Tmat = np.eye(4)\n",
    "        Tmat[:3,3] = np.squeeze(new_pt)\n",
    "        Tmat[:3,:3] = new_rotmat\n",
    "        Tmats.append(Tmat)\n",
    "        \n",
    "print(Tmats[3])\n",
    "#print(Tmats[15])"
   ]
  },
  {
   "cell_type": "code",
   "execution_count": 3,
   "id": "77a7f42e",
   "metadata": {
    "scrolled": false
   },
   "outputs": [
    {
     "ename": "ModuleNotFoundError",
     "evalue": "No module named 'decision_vars'",
     "output_type": "error",
     "traceback": [
      "\u001b[0;31m---------------------------------------------------------------------------\u001b[0m",
      "\u001b[0;31mModuleNotFoundError\u001b[0m                       Traceback (most recent call last)",
      "Input \u001b[0;32mIn [3]\u001b[0m, in \u001b[0;36m<cell line: 1>\u001b[0;34m()\u001b[0m\n\u001b[0;32m----> 1\u001b[0m \u001b[38;5;28;01mfrom\u001b[39;00m \u001b[38;5;21;01mconstraint\u001b[39;00m \u001b[38;5;28;01mimport\u001b[39;00m PointConstraint\n\u001b[1;32m      2\u001b[0m constraint \u001b[38;5;241m=\u001b[39m PointConstraint()\n\u001b[1;32m      3\u001b[0m constraint\u001b[38;5;241m.\u001b[39mfit(Tmats)\n",
      "File \u001b[0;32m~/contact_monitoring/constraint.py:3\u001b[0m, in \u001b[0;36m<module>\u001b[0;34m\u001b[0m\n\u001b[1;32m      1\u001b[0m \u001b[38;5;28;01mimport\u001b[39;00m \u001b[38;5;21;01mcasadi\u001b[39;00m \u001b[38;5;28;01mas\u001b[39;00m \u001b[38;5;21;01mca\u001b[39;00m\n\u001b[1;32m      2\u001b[0m \u001b[38;5;28;01mimport\u001b[39;00m \u001b[38;5;21;01mnumpy\u001b[39;00m \u001b[38;5;28;01mas\u001b[39;00m \u001b[38;5;21;01mnp\u001b[39;00m\n\u001b[0;32m----> 3\u001b[0m \u001b[38;5;28;01mfrom\u001b[39;00m \u001b[38;5;21;01mdecision_vars\u001b[39;00m \u001b[38;5;28;01mimport\u001b[39;00m DecisionVar, DecisionVarSet\n\u001b[1;32m      5\u001b[0m \u001b[38;5;28;01mclass\u001b[39;00m \u001b[38;5;21;01mConstraint\u001b[39;00m():\n\u001b[1;32m      6\u001b[0m     \u001b[38;5;28;01mdef\u001b[39;00m \u001b[38;5;21m__init__\u001b[39m(\u001b[38;5;28mself\u001b[39m):\n",
      "\u001b[0;31mModuleNotFoundError\u001b[0m: No module named 'decision_vars'"
     ]
    }
   ],
   "source": [
    "from constraint import PointConstraint\n",
    "constraint = PointConstraint()\n",
    "constraint.fit(Tmats)"
   ]
  },
  {
   "cell_type": "code",
   "execution_count": null,
   "id": "cc36654c",
   "metadata": {},
   "outputs": [],
   "source": []
  }
 ],
 "metadata": {
  "kernelspec": {
   "display_name": "Python 3 (ipykernel)",
   "language": "python",
   "name": "python3"
  },
  "language_info": {
   "codemirror_mode": {
    "name": "ipython",
    "version": 3
   },
   "file_extension": ".py",
   "mimetype": "text/x-python",
   "name": "python",
   "nbconvert_exporter": "python",
   "pygments_lexer": "ipython3",
   "version": "3.8.10"
  }
 },
 "nbformat": 4,
 "nbformat_minor": 5
}
